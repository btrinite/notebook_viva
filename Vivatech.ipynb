{
  "nbformat": 4,
  "nbformat_minor": 0,
  "metadata": {
    "colab": {
      "name": "Vivatech.ipynb",
      "private_outputs": true,
      "provenance": [],
      "collapsed_sections": [],
      "authorship_tag": "ABX9TyN2/qpfmN3K7UkvJdqi9hce",
      "include_colab_link": true
    },
    "kernelspec": {
      "name": "python3",
      "display_name": "Python 3"
    },
    "language_info": {
      "name": "python"
    },
    "accelerator": "GPU"
  },
  "cells": [
    {
      "cell_type": "markdown",
      "metadata": {
        "id": "view-in-github",
        "colab_type": "text"
      },
      "source": [
        "<a href=\"https://colab.research.google.com/github/btrinite/notebook_viva/blob/main/Vivatech.ipynb\" target=\"_parent\"><img src=\"https://colab.research.google.com/assets/colab-badge.svg\" alt=\"Open In Colab\"/></a>"
      ]
    },
    {
      "cell_type": "code",
      "execution_count": null,
      "metadata": {
        "id": "dLxB4JpBBMa_"
      },
      "outputs": [],
      "source": [
        "import tensorflow\n",
        "print(tensorflow.__version__)"
      ]
    },
    {
      "cell_type": "code",
      "source": [
        "!git clone https://github.com/btrinite/donkeycar_viva.git \n",
        "%cd /content/donkeycar_viva\n",
        "\n",
        "!git checkout viva"
      ],
      "metadata": {
        "id": "5RVvzdEoBRX8"
      },
      "execution_count": null,
      "outputs": []
    },
    {
      "cell_type": "code",
      "source": [
        "!pip3 install -e .[pc]"
      ],
      "metadata": {
        "id": "IShy5W8TBbVk"
      },
      "execution_count": null,
      "outputs": []
    },
    {
      "cell_type": "code",
      "source": [
        "!donkey createcar --path /content/mycar"
      ],
      "metadata": {
        "id": "RicCMlNzBdwP"
      },
      "execution_count": null,
      "outputs": []
    },
    {
      "cell_type": "code",
      "source": [
        "%cd /content/mycar\n",
        "!echo \"AUGMENTATIONS = ['MULTIPLY','BLUR']\" >> myconfig.py "
      ],
      "metadata": {
        "id": "36wvc1zRFKx9"
      },
      "execution_count": null,
      "outputs": []
    },
    {
      "cell_type": "code",
      "source": [
        "from google.colab import drive\n",
        "drive.mount('/content/drive')"
      ],
      "metadata": {
        "id": "WAb8And0Bvnz"
      },
      "execution_count": null,
      "outputs": []
    },
    {
      "cell_type": "code",
      "source": [
        "%cd /content/mycar\n",
        "! rm -r -f /content/mycar/data\n",
        "!cp /content/drive/My\\ Drive/vivatech/*.tgz ."
      ],
      "metadata": {
        "id": "bwZ02VyWBw8J"
      },
      "execution_count": null,
      "outputs": []
    },
    {
      "cell_type": "code",
      "source": [
        "!tar -xzf *.tgz"
      ],
      "metadata": {
        "id": "EZc6TMwAClM1"
      },
      "execution_count": null,
      "outputs": []
    },
    {
      "cell_type": "code",
      "source": [
        "!python train.py --tub data --type linear --model /content/mycar/models/mypilot.h5"
      ],
      "metadata": {
        "id": "NP55vjxLCasa"
      },
      "execution_count": null,
      "outputs": []
    },
    {
      "cell_type": "code",
      "source": [
        "%cd /content/mycar/models\n",
        "\n",
        "import glob\n",
        "file = glob.glob(\"*.png\")\n",
        "  \n",
        "from IPython.display import Image\n",
        "Image(file[0])"
      ],
      "metadata": {
        "id": "vo07nJNHCo0W"
      },
      "execution_count": null,
      "outputs": []
    },
    {
      "cell_type": "code",
      "source": [
        "!cp /content/mycar/models/mypilot.h5 /content/drive/My\\ Drive/vivatech/"
      ],
      "metadata": {
        "id": "P_JfG1VLEhZL"
      },
      "execution_count": null,
      "outputs": []
    },
    {
      "cell_type": "code",
      "source": [
        "!pip uninstall -y keras-vis\n",
        "!pip install git+https://github.com/sctse999/keras-vis\n",
        "  "
      ],
      "metadata": {
        "id": "Jdqf9-DpErXs"
      },
      "execution_count": null,
      "outputs": []
    },
    {
      "cell_type": "code",
      "source": [
        "%cd /content/mycar\n",
        "!donkey makemovie --tub data --model models/mypilot.h5 --type linear --salient"
      ],
      "metadata": {
        "id": "r4dccHJoEu30"
      },
      "execution_count": null,
      "outputs": []
    },
    {
      "cell_type": "code",
      "source": [
        "!cp /content/mycar/tub_movie.mp4 /content/drive/My\\ Drive/vivatech/"
      ],
      "metadata": {
        "id": "-AC9BBFlEz4a"
      },
      "execution_count": null,
      "outputs": []
    },
    {
      "cell_type": "code",
      "source": [
        ""
      ],
      "metadata": {
        "id": "YwoEllvcF__H"
      },
      "execution_count": null,
      "outputs": []
    }
  ]
}